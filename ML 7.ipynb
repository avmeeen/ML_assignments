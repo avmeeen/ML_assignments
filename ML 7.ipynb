{
 "cells": [
  {
   "cell_type": "markdown",
   "metadata": {
    "id": "MLeJ9gQ9nqKy"
   },
   "source": [
    "Q1\n"
   ]
  },
  {
   "cell_type": "code",
   "execution_count": 1,
   "metadata": {
    "id": "x16v_8UqlwLj"
   },
   "outputs": [],
   "source": [
    "import pandas as pd\n",
    "import numpy as np\n",
    "import matplotlib.pyplot as plt"
   ]
  },
  {
   "cell_type": "code",
   "execution_count": null,
   "metadata": {
    "id": "Ao1dzVnFmNVo"
   },
   "outputs": [],
   "source": [
    "df = pd.read_csv('/content/ham_spam.csv', encoding='latin-1')\n",
    "data = df.drop([\"Unnamed: 2\", \"Unnamed: 3\", \"Unnamed: 4\"], axis=1, inplace = True)\n",
    "df.rename(columns = {\"v2\":\"text\", \"v1\":\"output\"}, inplace = True)\n",
    "df.head(2)"
   ]
  },
  {
   "cell_type": "code",
   "execution_count": null,
   "metadata": {
    "id": "Bk0NOcmOmPpe"
   },
   "outputs": [],
   "source": [
    "import nltk\n",
    "from nltk import sent_tokenize,word_tokenize\n",
    "import re\n",
    "from nltk.corpus import stopwords\n",
    "nltk.download('punkt')\n",
    "nltk.download('stopwords')"
   ]
  },
  {
   "cell_type": "code",
   "execution_count": null,
   "metadata": {
    "id": "eWIB6ELnnQSa"
   },
   "outputs": [],
   "source": [
    "from nltk.stem import PorterStemmer\n",
    "ps = PorterStemmer()"
   ]
  },
  {
   "cell_type": "code",
   "execution_count": null,
   "metadata": {
    "id": "zlKTJXPwnQ_4"
   },
   "outputs": [],
   "source": [
    "stopword = stopwords.words('english')"
   ]
  },
  {
   "cell_type": "code",
   "execution_count": null,
   "metadata": {
    "id": "RoNqXFHHnUcj"
   },
   "outputs": [],
   "source": [
    "for i in range(len(df)):\n",
    "  text = df.iloc[i][1]\n",
    "  text = word_tokenize(text)\n",
    "  text.append(\" playing\")\n",
    "  new_text = [ps.stem(word.lower()) for word in text if word.lower() not in stopword and word.isalpha()]\n",
    "  new_text = ' '.join(new_text)\n",
    "  df.iloc[i][1] = new_text"
   ]
  },
  {
   "cell_type": "code",
   "execution_count": null,
   "metadata": {
    "id": "ugIdqP1gnVQt"
   },
   "outputs": [],
   "source": [
    "df.head(2)"
   ]
  },
  {
   "cell_type": "code",
   "execution_count": null,
   "metadata": {
    "id": "aae-J_fwnXuY"
   },
   "outputs": [],
   "source": [
    "from sklearn.feature_extraction.text import CountVectorizer\n",
    "cv = CountVectorizer(max_features = 1000)"
   ]
  },
  {
   "cell_type": "code",
   "execution_count": null,
   "metadata": {
    "id": "OdAjOVxHnZtK"
   },
   "outputs": [],
   "source": [
    "X = cv.fit_transform(df['text']).toarray()\n",
    "X.shape"
   ]
  },
  {
   "cell_type": "code",
   "execution_count": null,
   "metadata": {
    "id": "FriGUxK_nbeg"
   },
   "outputs": [],
   "source": [
    "tdm = pd.DataFrame(X, columns = cv.get_feature_names_out())\n",
    "tdm.head(3)"
   ]
  },
  {
   "cell_type": "code",
   "execution_count": null,
   "metadata": {
    "id": "JG-XF31PneBj"
   },
   "outputs": [],
   "source": [
    "from sklearn.preprocessing import LabelEncoder\n",
    "LE = LabelEncoder()\n",
    "y = LE.fit_transform(df['output'])"
   ]
  },
  {
   "cell_type": "code",
   "execution_count": null,
   "metadata": {
    "id": "HR9T18i4ngP2"
   },
   "outputs": [],
   "source": [
    "from sklearn.model_selection import train_test_split\n",
    "x_train, x_test, y_train, y_test = train_test_split(tdm, y, train_size = 0.7, random_state = 43)"
   ]
  },
  {
   "cell_type": "code",
   "execution_count": null,
   "metadata": {
    "id": "cjagD9FQniaG"
   },
   "outputs": [],
   "source": [
    "from sklearn.naive_bayes import GaussianNB\n",
    "from sklearn.metrics import confusion_matrix\n",
    "\n",
    "classifier = GaussianNB()\n",
    "classifier.fit(x_train, y_train)\n",
    "y_pred = classifier.predict(x_test)\n",
    "cm = confusion_matrix(y_test, y_pred)\n",
    "cm"
   ]
  },
  {
   "cell_type": "markdown",
   "metadata": {
    "id": "Jf37tlwSnnU3"
   },
   "source": [
    "Q2"
   ]
  },
  {
   "cell_type": "code",
   "execution_count": null,
   "metadata": {
    "id": "wXUPD1TDnkqT"
   },
   "outputs": [],
   "source": [
    "import pandas as pd\n",
    "import numpy as np\n",
    "from sklearn import datasets\n",
    "iris = datasets.load_iris()"
   ]
  },
  {
   "cell_type": "code",
   "execution_count": null,
   "metadata": {
    "id": "ZS98BFkinwPf"
   },
   "outputs": [],
   "source": [
    "x = iris.data\n",
    "y = iris.target"
   ]
  },
  {
   "cell_type": "code",
   "execution_count": null,
   "metadata": {
    "id": "2jPBpnmknw0e"
   },
   "outputs": [],
   "source": [
    "from sklearn.model_selection import train_test_split\n",
    "x_train, x_test, y_train, y_test = train_test_split(x, y, train_size = 0.7, random_state = 43)"
   ]
  },
  {
   "cell_type": "code",
   "execution_count": null,
   "metadata": {
    "id": "Q6C_-uQVnz4O"
   },
   "outputs": [],
   "source": [
    "import numpy as np\n",
    "size = x_train.shape[0]\n",
    "label_prob = {}\n",
    "for outcome in np.unique(y_train):\n",
    "  outcome_count = sum(outcome==y_train)\n",
    "  label_prob[outcome] = outcome_count/size\n",
    "print(label_prob)"
   ]
  },
  {
   "cell_type": "code",
   "execution_count": null,
   "metadata": {
    "id": "QHt8FEg3n1-3"
   },
   "outputs": [],
   "source": [
    "target_names = list(iris.target_names)\n",
    "target_names"
   ]
  },
  {
   "cell_type": "code",
   "execution_count": null,
   "metadata": {
    "id": "OQrac8Xkn57O"
   },
   "outputs": [],
   "source": [
    "df = pd.DataFrame(x_train,columns = iris.feature_names)\n",
    "df['target'] = y_train\n",
    "df.head(5)"
   ]
  },
  {
   "cell_type": "code",
   "execution_count": null,
   "metadata": {
    "id": "kktBZgCJn8ED"
   },
   "outputs": [],
   "source": [
    "def GaussianProb(mean,var,new_x):\n",
    "  exp = np.exp((-(new_x - mean)**2)/(2*var))\n",
    "  start = (1/(np.sqrt(2*np.pi*var))) \n",
    "  return start*exp"
   ]
  },
  {
   "cell_type": "code",
   "execution_count": null,
   "metadata": {
    "id": "pvvaImlbn8rn"
   },
   "outputs": [],
   "source": [
    "final_table = []\n",
    "for i in range(3):\n",
    "  new_table = []\n",
    "  temp_df = df[df['target'] == i]\n",
    "  for feature in iris.feature_names:\n",
    "    mean,var = temp_df[feature].mean() , temp_df[feature].var()\n",
    "    new_table.append([mean,var])\n",
    "  final_table.append(new_table)"
   ]
  },
  {
   "cell_type": "code",
   "execution_count": null,
   "metadata": {
    "id": "d3EmMOSNn-cW"
   },
   "outputs": [],
   "source": [
    "final_table[0]"
   ]
  },
  {
   "cell_type": "code",
   "execution_count": null,
   "metadata": {
    "id": "o5qHMcaLoAJ0"
   },
   "outputs": [],
   "source": [
    "test = x_test[0]\n",
    "test"
   ]
  },
  {
   "cell_type": "code",
   "execution_count": null,
   "metadata": {
    "id": "LdRUnrYJoCTx"
   },
   "outputs": [],
   "source": [
    "x_train[:5]"
   ]
  },
  {
   "cell_type": "code",
   "execution_count": null,
   "metadata": {
    "id": "bG6GmLPCoFPG"
   },
   "outputs": [],
   "source": [
    "y_pred = []\n",
    "for i in range(len(x_test)): \n",
    "  test = x_test[i]\n",
    "  probs = {}\n",
    "  count = 0\n",
    "  for each_label in final_table:  \n",
    "    prob = label_prob[count]  \n",
    "    feature_count = 0 \n",
    "    for stats in each_label:  \n",
    "     prob = prob * GaussianProb(stats[0],stats[1],test[feature_count])\n",
    "     feature_count+=1 \n",
    "    count+=1  \n",
    "    probs[count-1] = prob \n",
    "  output =max(probs, key=probs.get)\n",
    "  y_pred.append(output)"
   ]
  },
  {
   "cell_type": "code",
   "execution_count": null,
   "metadata": {
    "id": "p-_hUIAZoHdP"
   },
   "outputs": [],
   "source": [
    "for i in range(len(y_test)):\n",
    "  print(y_pred[i], y_test[i])"
   ]
  },
  {
   "cell_type": "code",
   "execution_count": null,
   "metadata": {
    "id": "cW2CxA9ioJWk"
   },
   "outputs": [],
   "source": [
    "from sklearn.metrics import classification_report\n",
    "print (classification_report(y_test, y_pred))"
   ]
  },
  {
   "cell_type": "code",
   "execution_count": null,
   "metadata": {
    "id": "ufDSCnZ7oLsq"
   },
   "outputs": [],
   "source": [
    "from sklearn.naive_bayes import GaussianNB\n",
    "from sklearn.metrics import confusion_matrix\n",
    "\n",
    "classifier = GaussianNB()\n",
    "classifier.fit(x_train, y_train)\n",
    "y_pred = classifier.predict(x_test)\n",
    "cm = confusion_matrix(y_test, y_pred)\n",
    "cm"
   ]
  },
  {
   "cell_type": "code",
   "execution_count": null,
   "metadata": {
    "id": "XOuu8FMDoNtf"
   },
   "outputs": [],
   "source": [
    "from sklearn.metrics import classification_report\n",
    "print (classification_report(y_test, y_pred))"
   ]
  },
  {
   "cell_type": "markdown",
   "metadata": {
    "id": "ljimBMA6oRVU"
   },
   "source": [
    "Q3"
   ]
  },
  {
   "cell_type": "code",
   "execution_count": null,
   "metadata": {
    "id": "ratJ5Kp3oPod"
   },
   "outputs": [],
   "source": [
    "from sklearn import datasets\n",
    "iris = datasets.load_iris()"
   ]
  },
  {
   "cell_type": "code",
   "execution_count": null,
   "metadata": {
    "id": "Dt7UBBqFoWB4"
   },
   "outputs": [],
   "source": [
    "from sklearn.neighbors import KNeighborsClassifier\n",
    "from sklearn.model_selection import GridSearchCV"
   ]
  },
  {
   "cell_type": "code",
   "execution_count": null,
   "metadata": {
    "id": "ac9XSzWxoX6c"
   },
   "outputs": [],
   "source": [
    "knn = KNeighborsClassifier()\n",
    "params = {\n",
    "    'n_neighbors' : [1,2,3,4,5],\n",
    "     'weights' : ['uniform', 'distance'],\n",
    "     'algorithm': ['auto', 'ball_tree', 'kd_tree', 'brute'],\n",
    "     'p' : [1,2]\n",
    "}"
   ]
  },
  {
   "cell_type": "code",
   "execution_count": null,
   "metadata": {
    "id": "7mKklWBGoYTp"
   },
   "outputs": [],
   "source": [
    "classifier = GridSearchCV(estimator = knn, param_grid = params)\n",
    "classifier.fit(iris.data,iris.target)"
   ]
  },
  {
   "cell_type": "code",
   "execution_count": null,
   "metadata": {
    "id": "qtPI5wZAoaQb"
   },
   "outputs": [],
   "source": [
    "print(classifier.best_params_)\n",
    "print(classifier.best_score_)"
   ]
  }
 ],
 "metadata": {
  "colab": {
   "provenance": []
  },
  "kernelspec": {
   "display_name": "Python 3 (ipykernel)",
   "language": "python",
   "name": "python3"
  },
  "language_info": {
   "codemirror_mode": {
    "name": "ipython",
    "version": 3
   },
   "file_extension": ".py",
   "mimetype": "text/x-python",
   "name": "python",
   "nbconvert_exporter": "python",
   "pygments_lexer": "ipython3",
   "version": "3.9.7"
  }
 },
 "nbformat": 4,
 "nbformat_minor": 1
}
