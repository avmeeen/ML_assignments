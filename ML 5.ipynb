{
 "cells": [
  {
   "cell_type": "code",
   "execution_count": null,
   "metadata": {
    "id": "haDlJGS-Acrs"
   },
   "outputs": [],
   "source": [
    "import pandas as pd\n",
    "import numpy as np\n",
    "import missingno as msn"
   ]
  },
  {
   "cell_type": "markdown",
   "metadata": {
    "id": "_ijmZteS_vy2"
   },
   "source": [
    "#Question 1:\n",
    "Generate a dataset with atleast seven highly correlated columns and a target variable. Implement Ridge Regression using Gradient Descent Optimization. Take different values of learning rate (such as 0.0001,0.001,0.01,0.1,1,10) and regularization parameter (10-15,10-10,10-5,10- 3,0,1,10,20). Choose the best parameters for which ridge regression cost function is minimum and R2_score is maximum."
   ]
  },
  {
   "cell_type": "code",
   "execution_count": null,
   "metadata": {
    "id": "QD-uD7zJ_apU"
   },
   "outputs": [],
   "source": [
    "df = pd.read_csv('ab.csv')"
   ]
  },
  {
   "cell_type": "markdown",
   "metadata": {
    "id": "qYGcdBq-9ZQT"
   },
   "source": [
    "##Pre Processing\n"
   ]
  },
  {
   "cell_type": "code",
   "execution_count": null,
   "metadata": {
    "colab": {
     "base_uri": "https://localhost:8080/",
     "height": 507
    },
    "id": "pJkKME9B9Bo1",
    "outputId": "b376d72f-ac63-4fb5-a6c7-0485c35fc0f5"
   },
   "outputs": [
    {
     "data": {
      "text/plain": [
       "<matplotlib.axes._subplots.AxesSubplot at 0x7fe0250b2410>"
      ]
     },
     "execution_count": 20,
     "metadata": {},
     "output_type": "execute_result"
    },
    {
     "data": {
      "image/png": "[encoded data removed]",
      "text/plain": [
       "<Figure size 1800x720 with 3 Axes>"
      ]
     },
     "metadata": {
      "needs_background": "light"
     },
     "output_type": "display_data"
    }
   ],
   "source": [
    "msn.bar(df)"
   ]
  },
  {
   "cell_type": "code",
   "execution_count": null,
   "metadata": {
    "id": "jhzrjsgfiGn0"
   },
   "outputs": [],
   "source": [
    "Y=df.iloc[:,0]\n",
    "X=df.iloc[:,1:]"
   ]
  },
  {
   "cell_type": "code",
   "execution_count": null,
   "metadata": {
    "id": "C4vSAprg7_PP"
   },
   "outputs": [],
   "source": [
    "from sklearn.model_selection import train_test_split\n",
    "X_train,X_test,Y_train,Y_test = train_test_split(X,Y,test_size=0.25,random_state=43)"
   ]
  },
  {
   "cell_type": "code",
   "execution_count": null,
   "metadata": {
    "colab": {
     "base_uri": "https://localhost:8080/",
     "height": 559
    },
    "id": "lvF5CczCiVr9",
    "outputId": "c20b9428-907f-49e1-e4f7-209a70b57e5c"
   },
   "outputs": [
    {
     "data": {
      "text/html": [
       "\n",
       "  <div id=\"df-46d8f741-bb22-4c45-af17-f0812297c33a\">\n",
       "    <div class=\"colab-df-container\">\n",
       "      <div>\n",
       "<style scoped>\n",
       "    .dataframe tbody tr th:only-of-type {\n",
       "        vertical-align: middle;\n",
       "    }\n",
       "\n",
       "    .dataframe tbody tr th {\n",
       "        vertical-align: top;\n",
       "    }\n",
       "\n",
       "    .dataframe thead th {\n",
       "        text-align: right;\n",
       "    }\n",
       "</style>\n",
       "<table border=\"1\" class=\"dataframe\">\n",
       "  <thead>\n",
       "    <tr style=\"text-align: right;\">\n",
       "      <th></th>\n",
       "      <th>y</th>\n",
       "      <th>x0</th>\n",
       "      <th>x1</th>\n",
       "      <th>x2</th>\n",
       "      <th>x3</th>\n",
       "      <th>x4</th>\n",
       "      <th>x5</th>\n",
       "      <th>x6</th>\n",
       "    </tr>\n",
       "  </thead>\n",
       "  <tbody>\n",
       "    <tr>\n",
       "      <th>y</th>\n",
       "      <td>1.000000</td>\n",
       "      <td>0.999999</td>\n",
       "      <td>0.999994</td>\n",
       "      <td>0.999997</td>\n",
       "      <td>0.999998</td>\n",
       "      <td>0.999994</td>\n",
       "      <td>0.999995</td>\n",
       "      <td>0.999998</td>\n",
       "    </tr>\n",
       "    <tr>\n",
       "      <th>x0</th>\n",
       "      <td>0.999999</td>\n",
       "      <td>1.000000</td>\n",
       "      <td>0.999995</td>\n",
       "      <td>0.999997</td>\n",
       "      <td>0.999999</td>\n",
       "      <td>0.999995</td>\n",
       "      <td>0.999996</td>\n",
       "      <td>0.999999</td>\n",
       "    </tr>\n",
       "    <tr>\n",
       "      <th>x1</th>\n",
       "      <td>0.999994</td>\n",
       "      <td>0.999995</td>\n",
       "      <td>1.000000</td>\n",
       "      <td>0.999993</td>\n",
       "      <td>0.999992</td>\n",
       "      <td>0.999989</td>\n",
       "      <td>0.999990</td>\n",
       "      <td>0.999995</td>\n",
       "    </tr>\n",
       "    <tr>\n",
       "      <th>x2</th>\n",
       "      <td>0.999997</td>\n",
       "      <td>0.999997</td>\n",
       "      <td>0.999993</td>\n",
       "      <td>1.000000</td>\n",
       "      <td>0.999996</td>\n",
       "      <td>0.999992</td>\n",
       "      <td>0.999994</td>\n",
       "      <td>0.999995</td>\n",
       "    </tr>\n",
       "    <tr>\n",
       "      <th>x3</th>\n",
       "      <td>0.999998</td>\n",
       "      <td>0.999999</td>\n",
       "      <td>0.999992</td>\n",
       "      <td>0.999996</td>\n",
       "      <td>1.000000</td>\n",
       "      <td>0.999994</td>\n",
       "      <td>0.999996</td>\n",
       "      <td>0.999997</td>\n",
       "    </tr>\n",
       "    <tr>\n",
       "      <th>x4</th>\n",
       "      <td>0.999994</td>\n",
       "      <td>0.999995</td>\n",
       "      <td>0.999989</td>\n",
       "      <td>0.999992</td>\n",
       "      <td>0.999994</td>\n",
       "      <td>1.000000</td>\n",
       "      <td>0.999991</td>\n",
       "      <td>0.999994</td>\n",
       "    </tr>\n",
       "    <tr>\n",
       "      <th>x5</th>\n",
       "      <td>0.999995</td>\n",
       "      <td>0.999996</td>\n",
       "      <td>0.999990</td>\n",
       "      <td>0.999994</td>\n",
       "      <td>0.999996</td>\n",
       "      <td>0.999991</td>\n",
       "      <td>1.000000</td>\n",
       "      <td>0.999993</td>\n",
       "    </tr>\n",
       "    <tr>\n",
       "      <th>x6</th>\n",
       "      <td>0.999998</td>\n",
       "      <td>0.999999</td>\n",
       "      <td>0.999995</td>\n",
       "      <td>0.999995</td>\n",
       "      <td>0.999997</td>\n",
       "      <td>0.999994</td>\n",
       "      <td>0.999993</td>\n",
       "      <td>1.000000</td>\n",
       "    </tr>\n",
       "  </tbody>\n",
       "</table>\n",
       "</div>\n",
       "      <button class=\"colab-df-convert\" onclick=\"convertToInteractive('df-46d8f741-bb22-4c45-af17-f0812297c33a')\"\n",
       "              title=\"Convert this dataframe to an interactive table.\"\n",
       "              style=\"display:none;\">\n",
       "        \n",
       "  <svg xmlns=\"http://www.w3.org/2000/svg\" height=\"24px\"viewBox=\"0 0 24 24\"\n",
       "       width=\"24px\">\n",
       "    <path d=\"M0 0h24v24H0V0z\" fill=\"none\"/>\n",
       "    <path d=\"M18.56 5.44l.94 2.06.94-2.06 2.06-.94-2.06-.94-.94-2.06-.94 2.06-2.06.94zm-11 1L8.5 8.5l.94-2.06 2.06-.94-2.06-.94L8.5 2.5l-.94 2.06-2.06.94zm10 10l.94 2.06.94-2.06 2.06-.94-2.06-.94-.94-2.06-.94 2.06-2.06.94z\"/><path d=\"M17.41 7.96l-1.37-1.37c-.4-.4-.92-.59-1.43-.59-.52 0-1.04.2-1.43.59L10.3 9.45l-7.72 7.72c-.78.78-.78 2.05 0 2.83L4 21.41c.39.39.9.59 1.41.59.51 0 1.02-.2 1.41-.59l7.78-7.78 2.81-2.81c.8-.78.8-2.07 0-2.86zM5.41 20L4 18.59l7.72-7.72 1.47 1.35L5.41 20z\"/>\n",
       "  </svg>\n",
       "      </button>\n",
       "      \n",
       "  <style>\n",
       "    .colab-df-container {\n",
       "      display:flex;\n",
       "      flex-wrap:wrap;\n",
       "      gap: 12px;\n",
       "    }\n",
       "\n",
       "    .colab-df-convert {\n",
       "      background-color: #E8F0FE;\n",
       "      border: none;\n",
       "      border-radius: 50%;\n",
       "      cursor: pointer;\n",
       "      display: none;\n",
       "      fill: #1967D2;\n",
       "      height: 32px;\n",
       "      padding: 0 0 0 0;\n",
       "      width: 32px;\n",
       "    }\n",
       "\n",
       "    .colab-df-convert:hover {\n",
       "      background-color: #E2EBFA;\n",
       "      box-shadow: 0px 1px 2px rgba(60, 64, 67, 0.3), 0px 1px 3px 1px rgba(60, 64, 67, 0.15);\n",
       "      fill: #174EA6;\n",
       "    }\n",
       "\n",
       "    [theme=dark] .colab-df-convert {\n",
       "      background-color: #3B4455;\n",
       "      fill: #D2E3FC;\n",
       "    }\n",
       "\n",
       "    [theme=dark] .colab-df-convert:hover {\n",
       "      background-color: #434B5C;\n",
       "      box-shadow: 0px 1px 3px 1px rgba(0, 0, 0, 0.15);\n",
       "      filter: drop-shadow(0px 1px 2px rgba(0, 0, 0, 0.3));\n",
       "      fill: #FFFFFF;\n",
       "    }\n",
       "  </style>\n",
       "\n",
       "      <script>\n",
       "        const buttonEl =\n",
       "          document.querySelector('#df-46d8f741-bb22-4c45-af17-f0812297c33a button.colab-df-convert');\n",
       "        buttonEl.style.display =\n",
       "          google.colab.kernel.accessAllowed ? 'block' : 'none';\n",
       "\n",
       "        async function convertToInteractive(key) {\n",
       "          const element = document.querySelector('#df-46d8f741-bb22-4c45-af17-f0812297c33a');\n",
       "          const dataTable =\n",
       "            await google.colab.kernel.invokeFunction('convertToInteractive',\n",
       "                                                     [key], {});\n",
       "          if (!dataTable) return;\n",
       "\n",
       "          const docLinkHtml = 'Like what you see? Visit the ' +\n",
       "            '<a target=\"_blank\" href=https://colab.research.google.com/notebooks/data_table.ipynb>data table notebook</a>'\n",
       "            + ' to learn more about interactive tables.';\n",
       "          element.innerHTML = '';\n",
       "          dataTable['output_type'] = 'display_data';\n",
       "          await google.colab.output.renderOutput(dataTable, element);\n",
       "          const docLink = document.createElement('div');\n",
       "          docLink.innerHTML = docLinkHtml;\n",
       "          element.appendChild(docLink);\n",
       "        }\n",
       "      </script>\n",
       "    </div>\n",
       "  </div>\n",
       "  "
      ],
      "text/plain": [
       "           y        x0        x1        x2        x3        x4        x5  \\\n",
       "y   1.000000  0.999999  0.999994  0.999997  0.999998  0.999994  0.999995   \n",
       "x0  0.999999  1.000000  0.999995  0.999997  0.999999  0.999995  0.999996   \n",
       "x1  0.999994  0.999995  1.000000  0.999993  0.999992  0.999989  0.999990   \n",
       "x2  0.999997  0.999997  0.999993  1.000000  0.999996  0.999992  0.999994   \n",
       "x3  0.999998  0.999999  0.999992  0.999996  1.000000  0.999994  0.999996   \n",
       "x4  0.999994  0.999995  0.999989  0.999992  0.999994  1.000000  0.999991   \n",
       "x5  0.999995  0.999996  0.999990  0.999994  0.999996  0.999991  1.000000   \n",
       "x6  0.999998  0.999999  0.999995  0.999995  0.999997  0.999994  0.999993   \n",
       "\n",
       "          x6  \n",
       "y   0.999998  \n",
       "x0  0.999999  \n",
       "x1  0.999995  \n",
       "x2  0.999995  \n",
       "x3  0.999997  \n",
       "x4  0.999994  \n",
       "x5  0.999993  \n",
       "x6  1.000000  "
      ]
     },
     "execution_count": 44,
     "metadata": {},
     "output_type": "execute_result"
    },
    {
     "data": {
      "image/png": "[encoded data removed]",
      "text/plain": [
       "<Figure size 432x288 with 2 Axes>"
      ]
     },
     "metadata": {
      "needs_background": "light"
     },
     "output_type": "display_data"
    }
   ],
   "source": [
    "import seaborn as sb\n",
    "corr= df.corr()\n",
    "sb.heatmap(corr,annot=True)\n",
    "corr"
   ]
  },
  {
   "cell_type": "code",
   "execution_count": null,
   "metadata": {
    "id": "DiR5WnLl8TRl"
   },
   "outputs": [],
   "source": [
    "from sklearn.preprocessing import StandardScaler\n",
    "ss = StandardScaler()\n",
    "X_train_scaled = ss.fit_transform(X_train)\n",
    "X_test_scaled = ss.transform(X_test)"
   ]
  },
  {
   "cell_type": "code",
   "execution_count": null,
   "metadata": {
    "id": "oBVubXIg84l-"
   },
   "outputs": [],
   "source": [
    "# Appening a column of 1 to consider beta[0][0]\n",
    "X_train_inserting = np.insert(X_train_scaled,0,1,axis=1)\n",
    "X_test_inserting = np.insert(X_test_scaled,0,1,axis=1)"
   ]
  },
  {
   "cell_type": "code",
   "execution_count": null,
   "metadata": {
    "id": "OpK2mmkUjVYs"
   },
   "outputs": [],
   "source": [
    "Y_train = Y_train.reset_index(drop=True)"
   ]
  },
  {
   "cell_type": "code",
   "execution_count": null,
   "metadata": {
    "colab": {
     "base_uri": "https://localhost:8080/"
    },
    "id": "qDBv25rjscVl",
    "outputId": "b58a1a42-2419-497d-9671-4e25828646af"
   },
   "outputs": [
    {
     "data": {
      "text/plain": [
       "0      325000.0\n",
       "1      426000.0\n",
       "2      498000.0\n",
       "3      146000.0\n",
       "4       70100.0\n",
       "         ...   \n",
       "172     22800.0\n",
       "173    170000.0\n",
       "174    402000.0\n",
       "175     56400.0\n",
       "176    103000.0\n",
       "Name: y, Length: 177, dtype: float64"
      ]
     },
     "execution_count": 57,
     "metadata": {},
     "output_type": "execute_result"
    }
   ],
   "source": [
    "Y_train"
   ]
  },
  {
   "cell_type": "markdown",
   "metadata": {
    "id": "gyAakIuM9eZM"
   },
   "source": [
    "##Gradient descent"
   ]
  },
  {
   "cell_type": "code",
   "execution_count": null,
   "metadata": {
    "id": "hFQcARBY9GDB"
   },
   "outputs": [],
   "source": [
    "from sklearn.metrics import r2_score\n",
    "lr = [0.0001,0.001,0.01,0.1,1,10]\n",
    "lamdas = [10-15,10-10,10-5,10- 3,0,1,10,20]\n",
    "Score = []\n",
    "n=236"
   ]
  },
  {
   "cell_type": "code",
   "execution_count": null,
   "metadata": {
    "id": "_XEXv4pL-UVN"
   },
   "outputs": [],
   "source": [
    "for lamda in lamdas:\n",
    "  for learning_rate in lr:\n",
    "    beta=np.zeros(8)\n",
    "    number_of_iterations=100\n",
    "    for i in range(number_of_iterations):\n",
    "        x0_gradient=0\n",
    "        x1_gradient=0\n",
    "        x2_gradient=0\n",
    "        x3_gradient=0\n",
    "        x4_gradient=0\n",
    "        x5_gradient=0 \n",
    "        x6_gradient=0\n",
    "        x7_gradient=0    \n",
    "        for j in range(len(X_train)):\n",
    "          a=X_train_inserting[j,0]\n",
    "          b=X_train_inserting[j,1]\n",
    "          c=X_train_inserting[j,2]\n",
    "          d=X_train_inserting[j,3]\n",
    "          e=X_train_inserting[j,4]\n",
    "          f=X_train_inserting[j,5]\n",
    "          g=X_train_inserting[j,6]\n",
    "          h=Y_train[j]\n",
    "          x0_gradient+=(beta[0]+(beta[1]*a)+(beta[2]*b)+(beta[3]*c)+(beta[4]*d)+(beta[5]*e)+(beta[6]*f)+(beta[7]*g)-h)\n",
    "          x1_gradient+=((beta[0]+(beta[1]*a)+(beta[2]*b)+(beta[3]*c)+(beta[4]*d)+(beta[5]*e)+(beta[6]*f)+(beta[7]*g)-h)*a)\n",
    "          x2_gradient+=((beta[0]+(beta[1]*a)+(beta[2]*b)+(beta[3]*c)+(beta[4]*d)+(beta[5]*e)+(beta[6]*f)+(beta[7]*g)-h)*b)\n",
    "          x3_gradient+=((beta[0]+(beta[1]*a)+(beta[2]*b)+(beta[3]*c)+(beta[4]*d)+(beta[5]*e)+(beta[6]*f)+(beta[7]*g)-h)*c)\n",
    "          x4_gradient+=((beta[0]+(beta[1]*a)+(beta[2]*b)+(beta[3]*c)+(beta[4]*d)+(beta[5]*e)+(beta[6]*f)+(beta[7]*g)-h)*d)\n",
    "          x5_gradient+=((beta[0]+(beta[1]*a)+(beta[2]*b)+(beta[3]*c)+(beta[4]*d)+(beta[5]*e)+(beta[6]*f)+(beta[7]*g)-h)*e)\n",
    "          x6_gradient+=((beta[0]+(beta[1]*a)+(beta[2]*b)+(beta[3]*c)+(beta[4]*d)+(beta[5]*e)+(beta[6]*f)+(beta[7]*g)-h)*f)\n",
    "          x7_gradient+=((beta[0]+(beta[1]*a)+(beta[2]*b)+(beta[3]*c)+(beta[4]*d)+(beta[5]*e)+(beta[6]*f)+(beta[7]*g)-h)*g)\n",
    "        beta[0]=beta[0]-learning_rate/n*(x0_gradient+lamda*beta[0])\n",
    "        beta[1]=beta[1]-learning_rate/n*(x1_gradient+lamda*beta[1])\n",
    "        beta[2]=beta[2]-learning_rate/n*(x2_gradient+lamda*beta[2])\n",
    "        beta[3]=beta[3]-learning_rate/n*(x3_gradient+lamda*beta[3])\n",
    "        beta[4]=beta[4]-learning_rate/n*(x4_gradient+lamda*beta[4])\n",
    "        beta[5]=beta[5]-learning_rate/n*(x5_gradient+lamda*beta[5])\n",
    "        beta[6]=beta[6]-learning_rate/n*(x6_gradient+lamda*beta[6])\n",
    "        beta[7]=beta[7]-learning_rate/n*(x7_gradient+lamda*beta[7])\n",
    "        y_pred = X_test_inserting.dot(beta)\n",
    "        Score.append({'lamda':lamda,'lr':learning_rate,'score':r2_score(y_pred,Y_test),'beta':beta})"
   ]
  },
  {
   "cell_type": "code",
   "execution_count": null,
   "metadata": {
    "id": "6z1LUB5tpQow"
   },
   "outputs": [],
   "source": [
    "maxScore = 0\n",
    "for i in Score:\n",
    "  maxScore = max(maxScore,i['score'])\n",
    "finalBeta = [final['beta'] for final in Score if final['score'] == maxScore]"
   ]
  },
  {
   "cell_type": "code",
   "execution_count": null,
   "metadata": {
    "id": "9wK2Ioybp019"
   },
   "outputs": [],
   "source": [
    "finalBeta = finalBeta[0]"
   ]
  },
  {
   "cell_type": "code",
   "execution_count": null,
   "metadata": {
    "colab": {
     "base_uri": "https://localhost:8080/"
    },
    "id": "Wr4dx5qatSYa",
    "outputId": "772bd9b0-d18e-4b67-936e-a40c547529fe"
   },
   "outputs": [
    {
     "data": {
      "text/plain": [
       "array([126293.39557155, 126293.39557155,  28551.77969009,  28549.94953058,\n",
       "        28551.21786407,  28552.08044794,  28549.47914513,  28549.6911324 ])"
      ]
     },
     "execution_count": 65,
     "metadata": {},
     "output_type": "execute_result"
    }
   ],
   "source": [
    "finalBeta"
   ]
  },
  {
   "cell_type": "markdown",
   "metadata": {
    "id": "hD3zphBKAN9x"
   },
   "source": [
    "#Question 2:\n",
    "Load the Hitters dataset from the following link:\n",
    "https://drive.google.com/file/d/1qzCKF6JKKMB0p7ul_lLy8tdmRk3vE_bG/view?usp=sharing\n",
    "<br>\n",
    "(a) Pre-process the data (null values, noise, categorical to numerical encoding)\n",
    "<br>\n",
    "(b) Separate input and output features and perform scaling<br>\n",
    "(c) Fit a Linear, Ridge (use regularization parameter as 0.5748), and LASSO (use\n",
    "regularization parameter as 0.5748) regression function on the dataset.<br>\n",
    "(d) Evaluate the performance of each trained model on test set. Which model performs the best and Why?"
   ]
  },
  {
   "cell_type": "markdown",
   "metadata": {
    "id": "eIjTpY3Z2AQJ"
   },
   "source": [
    "##(a) Pre-process the data (null values, noise, categorical to numerical encoding)"
   ]
  },
  {
   "cell_type": "code",
   "execution_count": null,
   "metadata": {
    "id": "Fq-lk_MWAI7x"
   },
   "outputs": [],
   "source": [
    "df = pd.read_csv('/content/Hitters.csv')"
   ]
  },
  {
   "cell_type": "code",
   "execution_count": null,
   "metadata": {
    "colab": {
     "base_uri": "https://localhost:8080/"
    },
    "id": "zhNrZ76qGMPK",
    "outputId": "c31a94cd-fb14-497c-8b32-cc2154b8a74a"
   },
   "outputs": [
    {
     "data": {
      "text/plain": [
       "<matplotlib.axes._subplots.AxesSubplot at 0x7fe02115f890>"
      ]
     },
     "execution_count": 93,
     "metadata": {},
     "output_type": "execute_result"
    },
    {
     "data": {
      "image/png": "[encoded data removed]",
      "text/plain": [
       "<Figure size 1800x720 with 3 Axes>"
      ]
     },
     "metadata": {
      "needs_background": "light"
     },
     "output_type": "display_data"
    }
   ],
   "source": [
    "msn.bar(df)"
   ]
  },
  {
   "cell_type": "code",
   "execution_count": null,
   "metadata": {
    "id": "4StYysTRGQmq"
   },
   "outputs": [],
   "source": [
    "for feature in df.columns:\n",
    "  if  df[feature].isnull().sum()>0:\n",
    "    df.fillna(df[feature].mean(),inplace=True) #mean se replace central tendency "
   ]
  },
  {
   "cell_type": "code",
   "execution_count": null,
   "metadata": {
    "colab": {
     "base_uri": "https://localhost:8080/"
    },
    "id": "qVCnAlJtzeiw",
    "outputId": "049f5b56-ebc0-42b8-c5f3-1c85e8b08cda"
   },
   "outputs": [
    {
     "name": "stdout",
     "output_type": "stream",
     "text": [
      "['A' 'N']\n",
      "['A' 'N']\n",
      "['E' 'W']\n"
     ]
    }
   ],
   "source": [
    "print(df.NewLeague.unique())\n",
    "print(df.League.unique())\n",
    "print(df.Division.unique())"
   ]
  },
  {
   "cell_type": "code",
   "execution_count": null,
   "metadata": {
    "colab": {
     "base_uri": "https://localhost:8080/"
    },
    "id": "KS8NXSQDwORg",
    "outputId": "f8e47d4d-4b83-4637-d84c-357b6ab0dc3d"
   },
   "outputs": [
    {
     "name": "stdout",
     "output_type": "stream",
     "text": [
      "League\n",
      "Division\n",
      "NewLeague\n"
     ]
    }
   ],
   "source": [
    "for feature in df.columns:\n",
    "  if df[feature].dtype == object:\n",
    "    print(feature)"
   ]
  },
  {
   "cell_type": "code",
   "execution_count": null,
   "metadata": {
    "id": "0QDpP0Oj0sxe"
   },
   "outputs": [],
   "source": [
    "# A = 1, N = 0 \n",
    "# E = 1, W = 0\n",
    "df['League'].replace('A',1,inplace=True)\n",
    "df['League'].replace('N',0,inplace=True)\n",
    "df['NewLeague'].replace('A',1,inplace=True)\n",
    "df['NewLeague'].replace('N',0,inplace=True)\n",
    "df['Division'].replace('E',1,inplace=True)\n",
    "df['Division'].replace('W',0,inplace=True)"
   ]
  },
  {
   "cell_type": "code",
   "execution_count": null,
   "metadata": {
    "id": "c6_ugnhrG1sy"
   },
   "outputs": [],
   "source": [
    "X = df.iloc[:,:-1]\n",
    "Y = df.iloc[:,-1]"
   ]
  },
  {
   "cell_type": "markdown",
   "metadata": {
    "id": "9aX9FLGU2C5O"
   },
   "source": [
    "##(b) Separate input and output features and perform scaling"
   ]
  },
  {
   "cell_type": "code",
   "execution_count": null,
   "metadata": {
    "id": "eX0dwOR7G9--"
   },
   "outputs": [],
   "source": [
    "from sklearn.model_selection import train_test_split\n",
    "X_train,X_test,Y_train,Y_test = train_test_split(X,Y,random_state=42,test_size=0.25)"
   ]
  },
  {
   "cell_type": "code",
   "execution_count": null,
   "metadata": {
    "id": "oaOlisvYHP9W"
   },
   "outputs": [],
   "source": [
    "from sklearn.preprocessing import StandardScaler\n",
    "ss = StandardScaler()\n",
    "X_train_scaled = ss.fit_transform(X_train)\n",
    "X_test_scaled = ss.transform(X_test)"
   ]
  },
  {
   "cell_type": "code",
   "execution_count": null,
   "metadata": {
    "id": "GUKMJkNz5-1u"
   },
   "outputs": [],
   "source": [
    "# Appening a column of 1 to consider beta[0][0]\n",
    "X_train_inserting = np.insert(X_train_scaled,0,1,axis=1)\n",
    "X_test_inserting = np.insert(X_test_scaled,0,1,axis=1)"
   ]
  },
  {
   "cell_type": "code",
   "execution_count": null,
   "metadata": {
    "colab": {
     "base_uri": "https://localhost:8080/"
    },
    "id": "bB7dvBGu2s1g",
    "outputId": "446f261f-f646-4e75-d0a1-2db7dbcf9005"
   },
   "outputs": [
    {
     "data": {
      "text/plain": [
       "array([[-0.39752209, -0.56485126, -0.67097354, ..., -0.65436448,\n",
       "        -0.77786898, -1.0395114 ],\n",
       "       [ 0.78043454,  0.79170311, -0.43729634, ...,  1.8317234 ,\n",
       "         0.31568516,  0.81893145],\n",
       "       [ 1.29174538,  1.45921399, -0.32045774, ..., -0.67682913,\n",
       "         0.00324112, -0.78837047],\n",
       "       ...,\n",
       "       [ 0.28206827, -0.09113386,  1.43212127, ..., -0.69180556,\n",
       "        -0.1529809 ,  0.0301628 ],\n",
       "       [-0.47518956, -0.32799256, -0.78781214, ..., -0.72924664,\n",
       "        -0.77786898,  0.0301628 ],\n",
       "       [-0.9282498 , -1.08163388, -1.02148934, ...,  0.22175685,\n",
       "         0.31568516, -0.37398795]])"
      ]
     },
     "execution_count": 102,
     "metadata": {},
     "output_type": "execute_result"
    }
   ],
   "source": [
    "X_train_scaled"
   ]
  },
  {
   "cell_type": "markdown",
   "metadata": {
    "id": "D_1xejqv2MPa"
   },
   "source": [
    "##(c) Fit a Linear, Ridge (use regularization parameter as 0.5748), and LASSO (use regularization parameter as 0.5748) regression function on the dataset.\n"
   ]
  },
  {
   "cell_type": "code",
   "execution_count": null,
   "metadata": {
    "id": "zM7JFStQ5i_N"
   },
   "outputs": [],
   "source": [
    "def r2Score(Y_pred,Y_test=Y_test):\n",
    "  error = Y_pred - Y_test\n",
    "  sse = np.sum(error**2)\n",
    "  # getting the total variance of the model\n",
    "  sst = np.sum((Y_test - np.mean(Y_test))**2)\n",
    "  # r2score = 1- (SSE)/(SST)  1 - unexplained/total\n",
    "  r2score = 1- ((sse)/(sst))\n",
    "  return r2score*100"
   ]
  },
  {
   "cell_type": "markdown",
   "metadata": {
    "id": "Ep1rKPAk5BMO"
   },
   "source": [
    "###Linear"
   ]
  },
  {
   "cell_type": "code",
   "execution_count": null,
   "metadata": {
    "id": "1KMiLP7x4wo7"
   },
   "outputs": [],
   "source": [
    "A = X_train_inserting.T.dot(X_train_inserting)\n",
    "B = np.linalg.inv(A)\n",
    "C = B.dot(X_train_inserting.T)\n",
    "beta_linear = C.dot(Y_train)"
   ]
  },
  {
   "cell_type": "code",
   "execution_count": null,
   "metadata": {
    "id": "GvRPchXB40iv"
   },
   "outputs": [],
   "source": [
    "Y_pred_linear = X_test_inserting.dot(beta_linear)"
   ]
  },
  {
   "cell_type": "code",
   "execution_count": null,
   "metadata": {
    "colab": {
     "base_uri": "https://localhost:8080/"
    },
    "id": "rRRSQFBi6lca",
    "outputId": "b26ad987-a415-447d-dd4e-7e7d0b189fe7"
   },
   "outputs": [
    {
     "data": {
      "text/plain": [
       "72.88508942850825"
      ]
     },
     "execution_count": 106,
     "metadata": {},
     "output_type": "execute_result"
    }
   ],
   "source": [
    "r2Score(Y_pred_linear)"
   ]
  },
  {
   "cell_type": "markdown",
   "metadata": {
    "id": "MzhG7Ql65EBq"
   },
   "source": [
    "###Ridge"
   ]
  },
  {
   "cell_type": "code",
   "execution_count": null,
   "metadata": {
    "id": "C3fnsiPh2ROE"
   },
   "outputs": [],
   "source": [
    "lamda = 0.5784\n",
    "A = X_train_inserting.T.dot(X_train_inserting)\n",
    "I = np.identity(A.shape[0])\n",
    "B = np.linalg.inv(np.add(A,lamda*I))\n",
    "C = B.dot(X_train_inserting.T)\n",
    "beta_ridge = C.dot(Y_train)"
   ]
  },
  {
   "cell_type": "code",
   "execution_count": null,
   "metadata": {
    "id": "5RxTum653d3b"
   },
   "outputs": [],
   "source": [
    "Y_pred_ridge = X_test_inserting.dot(beta_ridge)"
   ]
  },
  {
   "cell_type": "code",
   "execution_count": null,
   "metadata": {
    "colab": {
     "base_uri": "https://localhost:8080/"
    },
    "id": "tHiQ0OjGN0jq",
    "outputId": "79f409ac-afe4-4cd2-a617-23cb040cf923"
   },
   "outputs": [
    {
     "data": {
      "text/plain": [
       "72.74283125003879"
      ]
     },
     "execution_count": 109,
     "metadata": {},
     "output_type": "execute_result"
    }
   ],
   "source": [
    "r2Score(Y_pred_ridge)"
   ]
  },
  {
   "cell_type": "markdown",
   "metadata": {
    "id": "ewusy7AKiiQj"
   },
   "source": [
    "###LASSO"
   ]
  },
  {
   "cell_type": "code",
   "execution_count": null,
   "metadata": {
    "colab": {
     "base_uri": "https://localhost:8080/"
    },
    "id": "qU_SLUQyipiP",
    "outputId": "f3f93ab0-c4b5-448e-d519-048bd1f3a273"
   },
   "outputs": [
    {
     "data": {
      "text/plain": [
       "-0.008305736934343333"
      ]
     },
     "execution_count": 110,
     "metadata": {},
     "output_type": "execute_result"
    }
   ],
   "source": [
    "from sklearn.linear_model import LassoCV\n",
    "lasso = LassoCV(alphas=[0.5748]).fit(X_train_inserting, Y_train)\n",
    "lasso.score(X_test_inserting, Y_test)"
   ]
  },
  {
   "cell_type": "markdown",
   "metadata": {
    "id": "pqShmIWUtope"
   },
   "source": [
    "\n",
    "\n",
    "```\n",
    "# The best score came out with Linear Regression similar to that of Ridge Regression though using LASSO the score reduced exponentially owing to its property of doing feature selection.\n",
    "```\n",
    "\n"
   ]
  },
  {
   "cell_type": "markdown",
   "metadata": {
    "id": "5cRRFE3kOMjY"
   },
   "source": [
    "#Question 3\n",
    "**Cross Validation for Ridge and Lasso Regression**<br/>\n",
    "Explore Ridge Cross Validation (RidgeCV) and Lasso Cross Validation (LassoCV) function of Python. Implement both on Boston House Prediction Dataset (load_boston dataset from sklearn.datasets)."
   ]
  },
  {
   "cell_type": "code",
   "execution_count": null,
   "metadata": {
    "id": "GgFqJEXROXZh"
   },
   "outputs": [],
   "source": [
    "from sklearn.datasets import load_boston\n",
    "X,y = load_boston(return_X_y=True)"
   ]
  },
  {
   "cell_type": "code",
   "execution_count": null,
   "metadata": {
    "id": "Xu-QTiAFvB5Q"
   },
   "outputs": [],
   "source": [
    "from sklearn.model_selection import train_test_split\n",
    "X_train,X_test,Y_train,Y_test = train_test_split(X,Y,random_state=1,test_size=0.20)"
   ]
  },
  {
   "cell_type": "code",
   "execution_count": null,
   "metadata": {
    "colab": {
     "base_uri": "https://localhost:8080/"
    },
    "id": "ELFwe8-IDWNe",
    "outputId": "af937e15-44e7-41e3-a915-65453b92085f"
   },
   "outputs": [
    {
     "name": "stdout",
     "output_type": "stream",
     "text": [
      "76.35045352106553\n"
     ]
    }
   ],
   "source": [
    "from sklearn.linear_model import RidgeCV\n",
    "ridge = RidgeCV([1e-3, 1e-2, 1e-1, 1],cv=5).fit(X_train, Y_train)\n",
    "print(ridge.score(X_test, Y_test)*100)"
   ]
  },
  {
   "cell_type": "code",
   "execution_count": null,
   "metadata": {
    "colab": {
     "base_uri": "https://localhost:8080/"
    },
    "id": "xWytUmbafNSR",
    "outputId": "28a14d3b-4ccc-464f-b1b5-4aa8acaabcde"
   },
   "outputs": [
    {
     "name": "stdout",
     "output_type": "stream",
     "text": [
      "76.35005632846243\n"
     ]
    }
   ],
   "source": [
    "from sklearn.linear_model import LassoCV\n",
    "lasso = LassoCV(alphas=[1e-3, 1e-2, 1e-1, 1]).fit(X_train, Y_train)\n",
    "print(lasso.score(X_test, Y_test)*100)"
   ]
  }
 ],
 "metadata": {
  "colab": {
   "collapsed_sections": [
    "0hbt8nO0-NEu",
    "hD3zphBKAN9x",
    "eIjTpY3Z2AQJ",
    "9aX9FLGU2C5O",
    "Ep1rKPAk5BMO",
    "5cRRFE3kOMjY"
   ],
   "provenance": []
  },
  "kernelspec": {
   "display_name": "Python 3 (ipykernel)",
   "language": "python",
   "name": "python3"
  },
  "language_info": {
   "codemirror_mode": {
    "name": "ipython",
    "version": 3
   },
   "file_extension": ".py",
   "mimetype": "text/x-python",
   "name": "python",
   "nbconvert_exporter": "python",
   "pygments_lexer": "ipython3",
   "version": "3.9.7"
  }
 },
 "nbformat": 4,
 "nbformat_minor": 1
}
